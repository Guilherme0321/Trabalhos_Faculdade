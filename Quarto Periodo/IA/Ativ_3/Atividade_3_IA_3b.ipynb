{
  "nbformat": 4,
  "nbformat_minor": 0,
  "metadata": {
    "colab": {
      "provenance": [],
      "collapsed_sections": [
        "lVMvVeu1rgZa",
        "Nw1f_nK8cfLe",
        "IKw8Z315M6UV",
        "qcWBX34cOojS",
        "zFVHN4e3Piwo",
        "Dp1UqcWteYqd",
        "FtvtNi3iii4h"
      ]
    },
    "kernelspec": {
      "name": "python3",
      "display_name": "Python 3"
    },
    "language_info": {
      "name": "python"
    }
  },
  "cells": [
    {
      "cell_type": "code",
      "execution_count": 119,
      "metadata": {
        "id": "z9pXEGePEvaI"
      },
      "outputs": [],
      "source": [
        "import pandas as pd\n",
        "import matplotlib.pyplot as plt\n",
        "import seaborn as sns\n",
        "import pickle"
      ]
    },
    {
      "cell_type": "markdown",
      "source": [
        "# Importando os csv do outro arquivo com os dados ja processados"
      ],
      "metadata": {
        "id": "lVMvVeu1rgZa"
      }
    },
    {
      "cell_type": "code",
      "source": [
        "x_train, x_test, y_train, y_test = pd.read_pickle('sample_data/titanic_data_ready.pkl')\n",
        "x_test_csv = pd.read_pickle('sample_data/titanic_data_test_ready.pkl')"
      ],
      "metadata": {
        "id": "FIf3ywGtr2Xy"
      },
      "execution_count": 120,
      "outputs": []
    },
    {
      "cell_type": "code",
      "source": [
        "x_train, x_test"
      ],
      "metadata": {
        "colab": {
          "base_uri": "https://localhost:8080/"
        },
        "id": "-9nFYODvsf0a",
        "outputId": "4db70b7d-4674-4210-cead-52e2a578089a"
      },
      "execution_count": 121,
      "outputs": [
        {
          "output_type": "execute_result",
          "data": {
            "text/plain": [
              "(     Pclass  Sex   Age  SibSp  Parch      Fare  Embarked\n",
              " 445       1    0   4.0      0      2   81.8583         0\n",
              " 650       3    0  28.0      0      0    7.8958         0\n",
              " 172       3    1   1.0      1      1   11.1333         0\n",
              " 450       2    0  36.0      1      2   27.7500         0\n",
              " 314       2    0  43.0      1      1   26.2500         0\n",
              " ..      ...  ...   ...    ...    ...       ...       ...\n",
              " 106       3    1  21.0      0      0    7.6500         0\n",
              " 270       1    0  28.0      0      0   31.0000         0\n",
              " 860       3    0  41.0      2      0   14.1083         0\n",
              " 435       1    1  14.0      1      2  120.0000         0\n",
              " 102       1    0  21.0      0      1   77.2875         0\n",
              " \n",
              " [623 rows x 7 columns],\n",
              "      Pclass  Sex   Age  SibSp  Parch     Fare  Embarked\n",
              " 709       3    0  28.0      1      1  15.2458         1\n",
              " 439       2    0  31.0      0      0  10.5000         0\n",
              " 840       3    0  20.0      0      0   7.9250         0\n",
              " 720       2    1   6.0      0      1  33.0000         0\n",
              " 39        3    1  14.0      1      0  11.2417         1\n",
              " ..      ...  ...   ...    ...    ...      ...       ...\n",
              " 821       3    0  27.0      0      0   8.6625         0\n",
              " 633       1    0  28.0      0      0   0.0000         0\n",
              " 456       1    0  65.0      0      0  26.5500         0\n",
              " 500       3    0  17.0      0      0   8.6625         0\n",
              " 430       1    0  28.0      0      0  26.5500         0\n",
              " \n",
              " [268 rows x 7 columns])"
            ]
          },
          "metadata": {},
          "execution_count": 121
        }
      ]
    },
    {
      "cell_type": "code",
      "source": [
        "x_test_csv"
      ],
      "metadata": {
        "colab": {
          "base_uri": "https://localhost:8080/",
          "height": 0
        },
        "id": "EV_b_JlUroXa",
        "outputId": "410db008-d639-4e9d-c662-128b2815ce5c"
      },
      "execution_count": 122,
      "outputs": [
        {
          "output_type": "execute_result",
          "data": {
            "text/plain": [
              "     Pclass  Sex   Age  SibSp  Parch      Fare  Embarked\n",
              "0         3    0  34.5      0      0    7.8292         2\n",
              "1         3    1  47.0      1      0    7.0000         0\n",
              "2         2    0  62.0      0      0    9.6875         2\n",
              "3         3    0  27.0      0      0    8.6625         0\n",
              "4         3    1  22.0      1      1   12.2875         0\n",
              "..      ...  ...   ...    ...    ...       ...       ...\n",
              "413       3    0  27.0      0      0    8.0500         0\n",
              "414       1    1  39.0      0      0  108.9000         1\n",
              "415       3    0  38.5      0      0    7.2500         0\n",
              "416       3    0  27.0      0      0    8.0500         0\n",
              "417       3    0  27.0      1      1   22.3583         1\n",
              "\n",
              "[418 rows x 7 columns]"
            ],
            "text/html": [
              "\n",
              "  <div id=\"df-e68c2659-febd-4d98-852b-ba16d70a0e46\" class=\"colab-df-container\">\n",
              "    <div>\n",
              "<style scoped>\n",
              "    .dataframe tbody tr th:only-of-type {\n",
              "        vertical-align: middle;\n",
              "    }\n",
              "\n",
              "    .dataframe tbody tr th {\n",
              "        vertical-align: top;\n",
              "    }\n",
              "\n",
              "    .dataframe thead th {\n",
              "        text-align: right;\n",
              "    }\n",
              "</style>\n",
              "<table border=\"1\" class=\"dataframe\">\n",
              "  <thead>\n",
              "    <tr style=\"text-align: right;\">\n",
              "      <th></th>\n",
              "      <th>Pclass</th>\n",
              "      <th>Sex</th>\n",
              "      <th>Age</th>\n",
              "      <th>SibSp</th>\n",
              "      <th>Parch</th>\n",
              "      <th>Fare</th>\n",
              "      <th>Embarked</th>\n",
              "    </tr>\n",
              "  </thead>\n",
              "  <tbody>\n",
              "    <tr>\n",
              "      <th>0</th>\n",
              "      <td>3</td>\n",
              "      <td>0</td>\n",
              "      <td>34.5</td>\n",
              "      <td>0</td>\n",
              "      <td>0</td>\n",
              "      <td>7.8292</td>\n",
              "      <td>2</td>\n",
              "    </tr>\n",
              "    <tr>\n",
              "      <th>1</th>\n",
              "      <td>3</td>\n",
              "      <td>1</td>\n",
              "      <td>47.0</td>\n",
              "      <td>1</td>\n",
              "      <td>0</td>\n",
              "      <td>7.0000</td>\n",
              "      <td>0</td>\n",
              "    </tr>\n",
              "    <tr>\n",
              "      <th>2</th>\n",
              "      <td>2</td>\n",
              "      <td>0</td>\n",
              "      <td>62.0</td>\n",
              "      <td>0</td>\n",
              "      <td>0</td>\n",
              "      <td>9.6875</td>\n",
              "      <td>2</td>\n",
              "    </tr>\n",
              "    <tr>\n",
              "      <th>3</th>\n",
              "      <td>3</td>\n",
              "      <td>0</td>\n",
              "      <td>27.0</td>\n",
              "      <td>0</td>\n",
              "      <td>0</td>\n",
              "      <td>8.6625</td>\n",
              "      <td>0</td>\n",
              "    </tr>\n",
              "    <tr>\n",
              "      <th>4</th>\n",
              "      <td>3</td>\n",
              "      <td>1</td>\n",
              "      <td>22.0</td>\n",
              "      <td>1</td>\n",
              "      <td>1</td>\n",
              "      <td>12.2875</td>\n",
              "      <td>0</td>\n",
              "    </tr>\n",
              "    <tr>\n",
              "      <th>...</th>\n",
              "      <td>...</td>\n",
              "      <td>...</td>\n",
              "      <td>...</td>\n",
              "      <td>...</td>\n",
              "      <td>...</td>\n",
              "      <td>...</td>\n",
              "      <td>...</td>\n",
              "    </tr>\n",
              "    <tr>\n",
              "      <th>413</th>\n",
              "      <td>3</td>\n",
              "      <td>0</td>\n",
              "      <td>27.0</td>\n",
              "      <td>0</td>\n",
              "      <td>0</td>\n",
              "      <td>8.0500</td>\n",
              "      <td>0</td>\n",
              "    </tr>\n",
              "    <tr>\n",
              "      <th>414</th>\n",
              "      <td>1</td>\n",
              "      <td>1</td>\n",
              "      <td>39.0</td>\n",
              "      <td>0</td>\n",
              "      <td>0</td>\n",
              "      <td>108.9000</td>\n",
              "      <td>1</td>\n",
              "    </tr>\n",
              "    <tr>\n",
              "      <th>415</th>\n",
              "      <td>3</td>\n",
              "      <td>0</td>\n",
              "      <td>38.5</td>\n",
              "      <td>0</td>\n",
              "      <td>0</td>\n",
              "      <td>7.2500</td>\n",
              "      <td>0</td>\n",
              "    </tr>\n",
              "    <tr>\n",
              "      <th>416</th>\n",
              "      <td>3</td>\n",
              "      <td>0</td>\n",
              "      <td>27.0</td>\n",
              "      <td>0</td>\n",
              "      <td>0</td>\n",
              "      <td>8.0500</td>\n",
              "      <td>0</td>\n",
              "    </tr>\n",
              "    <tr>\n",
              "      <th>417</th>\n",
              "      <td>3</td>\n",
              "      <td>0</td>\n",
              "      <td>27.0</td>\n",
              "      <td>1</td>\n",
              "      <td>1</td>\n",
              "      <td>22.3583</td>\n",
              "      <td>1</td>\n",
              "    </tr>\n",
              "  </tbody>\n",
              "</table>\n",
              "<p>418 rows × 7 columns</p>\n",
              "</div>\n",
              "    <div class=\"colab-df-buttons\">\n",
              "\n",
              "  <div class=\"colab-df-container\">\n",
              "    <button class=\"colab-df-convert\" onclick=\"convertToInteractive('df-e68c2659-febd-4d98-852b-ba16d70a0e46')\"\n",
              "            title=\"Convert this dataframe to an interactive table.\"\n",
              "            style=\"display:none;\">\n",
              "\n",
              "  <svg xmlns=\"http://www.w3.org/2000/svg\" height=\"24px\" viewBox=\"0 -960 960 960\">\n",
              "    <path d=\"M120-120v-720h720v720H120Zm60-500h600v-160H180v160Zm220 220h160v-160H400v160Zm0 220h160v-160H400v160ZM180-400h160v-160H180v160Zm440 0h160v-160H620v160ZM180-180h160v-160H180v160Zm440 0h160v-160H620v160Z\"/>\n",
              "  </svg>\n",
              "    </button>\n",
              "\n",
              "  <style>\n",
              "    .colab-df-container {\n",
              "      display:flex;\n",
              "      gap: 12px;\n",
              "    }\n",
              "\n",
              "    .colab-df-convert {\n",
              "      background-color: #E8F0FE;\n",
              "      border: none;\n",
              "      border-radius: 50%;\n",
              "      cursor: pointer;\n",
              "      display: none;\n",
              "      fill: #1967D2;\n",
              "      height: 32px;\n",
              "      padding: 0 0 0 0;\n",
              "      width: 32px;\n",
              "    }\n",
              "\n",
              "    .colab-df-convert:hover {\n",
              "      background-color: #E2EBFA;\n",
              "      box-shadow: 0px 1px 2px rgba(60, 64, 67, 0.3), 0px 1px 3px 1px rgba(60, 64, 67, 0.15);\n",
              "      fill: #174EA6;\n",
              "    }\n",
              "\n",
              "    .colab-df-buttons div {\n",
              "      margin-bottom: 4px;\n",
              "    }\n",
              "\n",
              "    [theme=dark] .colab-df-convert {\n",
              "      background-color: #3B4455;\n",
              "      fill: #D2E3FC;\n",
              "    }\n",
              "\n",
              "    [theme=dark] .colab-df-convert:hover {\n",
              "      background-color: #434B5C;\n",
              "      box-shadow: 0px 1px 3px 1px rgba(0, 0, 0, 0.15);\n",
              "      filter: drop-shadow(0px 1px 2px rgba(0, 0, 0, 0.3));\n",
              "      fill: #FFFFFF;\n",
              "    }\n",
              "  </style>\n",
              "\n",
              "    <script>\n",
              "      const buttonEl =\n",
              "        document.querySelector('#df-e68c2659-febd-4d98-852b-ba16d70a0e46 button.colab-df-convert');\n",
              "      buttonEl.style.display =\n",
              "        google.colab.kernel.accessAllowed ? 'block' : 'none';\n",
              "\n",
              "      async function convertToInteractive(key) {\n",
              "        const element = document.querySelector('#df-e68c2659-febd-4d98-852b-ba16d70a0e46');\n",
              "        const dataTable =\n",
              "          await google.colab.kernel.invokeFunction('convertToInteractive',\n",
              "                                                    [key], {});\n",
              "        if (!dataTable) return;\n",
              "\n",
              "        const docLinkHtml = 'Like what you see? Visit the ' +\n",
              "          '<a target=\"_blank\" href=https://colab.research.google.com/notebooks/data_table.ipynb>data table notebook</a>'\n",
              "          + ' to learn more about interactive tables.';\n",
              "        element.innerHTML = '';\n",
              "        dataTable['output_type'] = 'display_data';\n",
              "        await google.colab.output.renderOutput(dataTable, element);\n",
              "        const docLink = document.createElement('div');\n",
              "        docLink.innerHTML = docLinkHtml;\n",
              "        element.appendChild(docLink);\n",
              "      }\n",
              "    </script>\n",
              "  </div>\n",
              "\n",
              "\n",
              "<div id=\"df-0e73a850-a559-42d5-a8e5-e050e6f87aff\">\n",
              "  <button class=\"colab-df-quickchart\" onclick=\"quickchart('df-0e73a850-a559-42d5-a8e5-e050e6f87aff')\"\n",
              "            title=\"Suggest charts\"\n",
              "            style=\"display:none;\">\n",
              "\n",
              "<svg xmlns=\"http://www.w3.org/2000/svg\" height=\"24px\"viewBox=\"0 0 24 24\"\n",
              "     width=\"24px\">\n",
              "    <g>\n",
              "        <path d=\"M19 3H5c-1.1 0-2 .9-2 2v14c0 1.1.9 2 2 2h14c1.1 0 2-.9 2-2V5c0-1.1-.9-2-2-2zM9 17H7v-7h2v7zm4 0h-2V7h2v10zm4 0h-2v-4h2v4z\"/>\n",
              "    </g>\n",
              "</svg>\n",
              "  </button>\n",
              "\n",
              "<style>\n",
              "  .colab-df-quickchart {\n",
              "      --bg-color: #E8F0FE;\n",
              "      --fill-color: #1967D2;\n",
              "      --hover-bg-color: #E2EBFA;\n",
              "      --hover-fill-color: #174EA6;\n",
              "      --disabled-fill-color: #AAA;\n",
              "      --disabled-bg-color: #DDD;\n",
              "  }\n",
              "\n",
              "  [theme=dark] .colab-df-quickchart {\n",
              "      --bg-color: #3B4455;\n",
              "      --fill-color: #D2E3FC;\n",
              "      --hover-bg-color: #434B5C;\n",
              "      --hover-fill-color: #FFFFFF;\n",
              "      --disabled-bg-color: #3B4455;\n",
              "      --disabled-fill-color: #666;\n",
              "  }\n",
              "\n",
              "  .colab-df-quickchart {\n",
              "    background-color: var(--bg-color);\n",
              "    border: none;\n",
              "    border-radius: 50%;\n",
              "    cursor: pointer;\n",
              "    display: none;\n",
              "    fill: var(--fill-color);\n",
              "    height: 32px;\n",
              "    padding: 0;\n",
              "    width: 32px;\n",
              "  }\n",
              "\n",
              "  .colab-df-quickchart:hover {\n",
              "    background-color: var(--hover-bg-color);\n",
              "    box-shadow: 0 1px 2px rgba(60, 64, 67, 0.3), 0 1px 3px 1px rgba(60, 64, 67, 0.15);\n",
              "    fill: var(--button-hover-fill-color);\n",
              "  }\n",
              "\n",
              "  .colab-df-quickchart-complete:disabled,\n",
              "  .colab-df-quickchart-complete:disabled:hover {\n",
              "    background-color: var(--disabled-bg-color);\n",
              "    fill: var(--disabled-fill-color);\n",
              "    box-shadow: none;\n",
              "  }\n",
              "\n",
              "  .colab-df-spinner {\n",
              "    border: 2px solid var(--fill-color);\n",
              "    border-color: transparent;\n",
              "    border-bottom-color: var(--fill-color);\n",
              "    animation:\n",
              "      spin 1s steps(1) infinite;\n",
              "  }\n",
              "\n",
              "  @keyframes spin {\n",
              "    0% {\n",
              "      border-color: transparent;\n",
              "      border-bottom-color: var(--fill-color);\n",
              "      border-left-color: var(--fill-color);\n",
              "    }\n",
              "    20% {\n",
              "      border-color: transparent;\n",
              "      border-left-color: var(--fill-color);\n",
              "      border-top-color: var(--fill-color);\n",
              "    }\n",
              "    30% {\n",
              "      border-color: transparent;\n",
              "      border-left-color: var(--fill-color);\n",
              "      border-top-color: var(--fill-color);\n",
              "      border-right-color: var(--fill-color);\n",
              "    }\n",
              "    40% {\n",
              "      border-color: transparent;\n",
              "      border-right-color: var(--fill-color);\n",
              "      border-top-color: var(--fill-color);\n",
              "    }\n",
              "    60% {\n",
              "      border-color: transparent;\n",
              "      border-right-color: var(--fill-color);\n",
              "    }\n",
              "    80% {\n",
              "      border-color: transparent;\n",
              "      border-right-color: var(--fill-color);\n",
              "      border-bottom-color: var(--fill-color);\n",
              "    }\n",
              "    90% {\n",
              "      border-color: transparent;\n",
              "      border-bottom-color: var(--fill-color);\n",
              "    }\n",
              "  }\n",
              "</style>\n",
              "\n",
              "  <script>\n",
              "    async function quickchart(key) {\n",
              "      const quickchartButtonEl =\n",
              "        document.querySelector('#' + key + ' button');\n",
              "      quickchartButtonEl.disabled = true;  // To prevent multiple clicks.\n",
              "      quickchartButtonEl.classList.add('colab-df-spinner');\n",
              "      try {\n",
              "        const charts = await google.colab.kernel.invokeFunction(\n",
              "            'suggestCharts', [key], {});\n",
              "      } catch (error) {\n",
              "        console.error('Error during call to suggestCharts:', error);\n",
              "      }\n",
              "      quickchartButtonEl.classList.remove('colab-df-spinner');\n",
              "      quickchartButtonEl.classList.add('colab-df-quickchart-complete');\n",
              "    }\n",
              "    (() => {\n",
              "      let quickchartButtonEl =\n",
              "        document.querySelector('#df-0e73a850-a559-42d5-a8e5-e050e6f87aff button');\n",
              "      quickchartButtonEl.style.display =\n",
              "        google.colab.kernel.accessAllowed ? 'block' : 'none';\n",
              "    })();\n",
              "  </script>\n",
              "</div>\n",
              "\n",
              "  <div id=\"id_79e02d61-6ffc-4033-b6a7-b543fbb6fcda\">\n",
              "    <style>\n",
              "      .colab-df-generate {\n",
              "        background-color: #E8F0FE;\n",
              "        border: none;\n",
              "        border-radius: 50%;\n",
              "        cursor: pointer;\n",
              "        display: none;\n",
              "        fill: #1967D2;\n",
              "        height: 32px;\n",
              "        padding: 0 0 0 0;\n",
              "        width: 32px;\n",
              "      }\n",
              "\n",
              "      .colab-df-generate:hover {\n",
              "        background-color: #E2EBFA;\n",
              "        box-shadow: 0px 1px 2px rgba(60, 64, 67, 0.3), 0px 1px 3px 1px rgba(60, 64, 67, 0.15);\n",
              "        fill: #174EA6;\n",
              "      }\n",
              "\n",
              "      [theme=dark] .colab-df-generate {\n",
              "        background-color: #3B4455;\n",
              "        fill: #D2E3FC;\n",
              "      }\n",
              "\n",
              "      [theme=dark] .colab-df-generate:hover {\n",
              "        background-color: #434B5C;\n",
              "        box-shadow: 0px 1px 3px 1px rgba(0, 0, 0, 0.15);\n",
              "        filter: drop-shadow(0px 1px 2px rgba(0, 0, 0, 0.3));\n",
              "        fill: #FFFFFF;\n",
              "      }\n",
              "    </style>\n",
              "    <button class=\"colab-df-generate\" onclick=\"generateWithVariable('x_test_csv')\"\n",
              "            title=\"Generate code using this dataframe.\"\n",
              "            style=\"display:none;\">\n",
              "\n",
              "  <svg xmlns=\"http://www.w3.org/2000/svg\" height=\"24px\"viewBox=\"0 0 24 24\"\n",
              "       width=\"24px\">\n",
              "    <path d=\"M7,19H8.4L18.45,9,17,7.55,7,17.6ZM5,21V16.75L18.45,3.32a2,2,0,0,1,2.83,0l1.4,1.43a1.91,1.91,0,0,1,.58,1.4,1.91,1.91,0,0,1-.58,1.4L9.25,21ZM18.45,9,17,7.55Zm-12,3A5.31,5.31,0,0,0,4.9,8.1,5.31,5.31,0,0,0,1,6.5,5.31,5.31,0,0,0,4.9,4.9,5.31,5.31,0,0,0,6.5,1,5.31,5.31,0,0,0,8.1,4.9,5.31,5.31,0,0,0,12,6.5,5.46,5.46,0,0,0,6.5,12Z\"/>\n",
              "  </svg>\n",
              "    </button>\n",
              "    <script>\n",
              "      (() => {\n",
              "      const buttonEl =\n",
              "        document.querySelector('#id_79e02d61-6ffc-4033-b6a7-b543fbb6fcda button.colab-df-generate');\n",
              "      buttonEl.style.display =\n",
              "        google.colab.kernel.accessAllowed ? 'block' : 'none';\n",
              "\n",
              "      buttonEl.onclick = () => {\n",
              "        google.colab.notebook.generateWithVariable('x_test_csv');\n",
              "      }\n",
              "      })();\n",
              "    </script>\n",
              "  </div>\n",
              "\n",
              "    </div>\n",
              "  </div>\n"
            ],
            "application/vnd.google.colaboratory.intrinsic+json": {
              "type": "dataframe",
              "variable_name": "x_test_csv",
              "summary": "{\n  \"name\": \"x_test_csv\",\n  \"rows\": 418,\n  \"fields\": [\n    {\n      \"column\": \"Pclass\",\n      \"properties\": {\n        \"dtype\": \"number\",\n        \"std\": 0,\n        \"min\": 1,\n        \"max\": 3,\n        \"num_unique_values\": 3,\n        \"samples\": [\n          3,\n          2,\n          1\n        ],\n        \"semantic_type\": \"\",\n        \"description\": \"\"\n      }\n    },\n    {\n      \"column\": \"Sex\",\n      \"properties\": {\n        \"dtype\": \"number\",\n        \"std\": 0,\n        \"min\": 0,\n        \"max\": 1,\n        \"num_unique_values\": 2,\n        \"samples\": [\n          1,\n          0\n        ],\n        \"semantic_type\": \"\",\n        \"description\": \"\"\n      }\n    },\n    {\n      \"column\": \"Age\",\n      \"properties\": {\n        \"dtype\": \"number\",\n        \"std\": 12.70376984633328,\n        \"min\": 0.17,\n        \"max\": 76.0,\n        \"num_unique_values\": 79,\n        \"samples\": [\n          10.0,\n          34.5\n        ],\n        \"semantic_type\": \"\",\n        \"description\": \"\"\n      }\n    },\n    {\n      \"column\": \"SibSp\",\n      \"properties\": {\n        \"dtype\": \"number\",\n        \"std\": 0,\n        \"min\": 0,\n        \"max\": 8,\n        \"num_unique_values\": 7,\n        \"samples\": [\n          0,\n          1\n        ],\n        \"semantic_type\": \"\",\n        \"description\": \"\"\n      }\n    },\n    {\n      \"column\": \"Parch\",\n      \"properties\": {\n        \"dtype\": \"number\",\n        \"std\": 0,\n        \"min\": 0,\n        \"max\": 9,\n        \"num_unique_values\": 8,\n        \"samples\": [\n          1,\n          6\n        ],\n        \"semantic_type\": \"\",\n        \"description\": \"\"\n      }\n    },\n    {\n      \"column\": \"Fare\",\n      \"properties\": {\n        \"dtype\": \"number\",\n        \"std\": 55.85010269407346,\n        \"min\": 0.0,\n        \"max\": 512.3292,\n        \"num_unique_values\": 169,\n        \"samples\": [\n          41.5792,\n          57.75\n        ],\n        \"semantic_type\": \"\",\n        \"description\": \"\"\n      }\n    },\n    {\n      \"column\": \"Embarked\",\n      \"properties\": {\n        \"dtype\": \"number\",\n        \"std\": 0,\n        \"min\": 0,\n        \"max\": 2,\n        \"num_unique_values\": 3,\n        \"samples\": [\n          2,\n          0\n        ],\n        \"semantic_type\": \"\",\n        \"description\": \"\"\n      }\n    }\n  ]\n}"
            }
          },
          "metadata": {},
          "execution_count": 122
        }
      ]
    },
    {
      "cell_type": "markdown",
      "source": [
        "\n",
        "\n",
        "---\n",
        "\n"
      ],
      "metadata": {
        "id": "PkaX3Ig1rk_6"
      }
    },
    {
      "cell_type": "markdown",
      "source": [
        "#  \n",
        "\n",
        "\n",
        "---\n",
        "\n"
      ],
      "metadata": {
        "id": "547RH7wVvcUN"
      }
    },
    {
      "cell_type": "markdown",
      "source": [
        "# Preparando RandomizedSearchCV"
      ],
      "metadata": {
        "id": "PadHKmp4vsCr"
      }
    },
    {
      "cell_type": "code",
      "source": [
        "from sklearn.model_selection import RandomizedSearchCV\n",
        "import numpy as np"
      ],
      "metadata": {
        "id": "GpWEMuLYvyM0"
      },
      "execution_count": 123,
      "outputs": []
    },
    {
      "cell_type": "markdown",
      "source": [
        "#  \n",
        "\n",
        "\n",
        "---\n",
        "\n"
      ],
      "metadata": {
        "id": "umkcf1hQvv5K"
      }
    },
    {
      "cell_type": "markdown",
      "source": [
        "# 1- Treinando Modelos e testando o csv para cada **modelo**"
      ],
      "metadata": {
        "id": "AmYIl4n_cCg-"
      }
    },
    {
      "cell_type": "markdown",
      "source": [
        "## Naive"
      ],
      "metadata": {
        "id": "f6SFo0KHNpNf"
      }
    },
    {
      "cell_type": "code",
      "source": [
        "from sklearn.naive_bayes import GaussianNB"
      ],
      "metadata": {
        "id": "94F4GqelNIeX"
      },
      "execution_count": 124,
      "outputs": []
    },
    {
      "cell_type": "code",
      "source": [
        "param_dist = {\n",
        "    'var_smoothing': np.logspace(0, -9, num=100)\n",
        "}"
      ],
      "metadata": {
        "id": "YdabkZNR2rRs"
      },
      "execution_count": null,
      "outputs": []
    },
    {
      "cell_type": "code",
      "source": [
        "naive = GaussianNB()\n",
        "\n",
        "random_search = RandomizedSearchCV(\n",
        "    naive,               # O modelo\n",
        "    param_distributions=param_dist,  # O espaço de hiperparâmetros\n",
        "    n_iter=10,         # Número de combinações aleatórias a serem testadas\n",
        "    scoring='accuracy',  # Métrica de avaliação\n",
        "    cv=5,              # Número de folds de validação cruzada\n",
        "    random_state=42,   # Semente para reprodutibilidade\n",
        "    verbose=2,         # Para exibir o progresso\n",
        "    n_jobs=-1          # Usar todos os núcleos disponíveis para acelerar a busca\n",
        ")\n",
        "\n",
        "\n",
        "random_search.fit(x_train, y_train)\n",
        "naive_model = random_search_N.best_estimator_\n",
        "\n",
        "y_naive_pred = naive_model.predict(x_test)"
      ],
      "metadata": {
        "id": "MivcTT0wOYyH",
        "colab": {
          "base_uri": "https://localhost:8080/"
        },
        "outputId": "ca00e89e-18ac-4064-c32c-48a6f3b083ed"
      },
      "execution_count": 152,
      "outputs": [
        {
          "output_type": "stream",
          "name": "stdout",
          "text": [
            "Fitting 5 folds for each of 10 candidates, totalling 50 fits\n"
          ]
        }
      ]
    },
    {
      "cell_type": "markdown",
      "source": [
        "### Teste do csv"
      ],
      "metadata": {
        "id": "Nw1f_nK8cfLe"
      }
    },
    {
      "cell_type": "code",
      "source": [
        "test_prediction_naive = naive_model.predict(x_test_csv)"
      ],
      "metadata": {
        "id": "I6HlWTAPZAXv"
      },
      "execution_count": 153,
      "outputs": []
    },
    {
      "cell_type": "markdown",
      "source": [
        "## Random Forest"
      ],
      "metadata": {
        "id": "IKw8Z315M6UV"
      }
    },
    {
      "cell_type": "code",
      "source": [
        "from sklearn.ensemble import RandomForestClassifier"
      ],
      "metadata": {
        "id": "Dv1G_mG8MM6M"
      },
      "execution_count": 127,
      "outputs": []
    },
    {
      "cell_type": "code",
      "source": [
        "param_dist = {\n",
        "    'n_estimators': np.arange(10, 200, 10),        # Número de árvores\n",
        "    'max_depth': np.arange(1, 20),                 # Profundidade máxima\n",
        "    'min_samples_split': np.arange(2, 10),         # Mínimo de amostras para dividir um nó\n",
        "    'min_samples_leaf': np.arange(1, 10),          # Mínimo de amostras em uma folha\n",
        "    'bootstrap': [True, False]                     # Amostragem com ou sem reposição\n",
        "}"
      ],
      "metadata": {
        "id": "XjZJTH9a2IB8"
      },
      "execution_count": 160,
      "outputs": []
    },
    {
      "cell_type": "code",
      "source": [
        "random_forest = RandomForestClassifier(random_state=42)\n",
        "\n",
        "random_search = RandomizedSearchCV(\n",
        "    random_forest,              # O modelo\n",
        "    param_distributions=param_dist,  # O espaço de hiperparâmetros\n",
        "    n_iter=50,       # Número de combinações aleatórias a serem testadas\n",
        "    scoring='accuracy',  # Métrica de avaliação (pode ser alterada para outra métrica, como 'f1' ou 'roc_auc')\n",
        "    cv=5,            # Número de folds de validação cruzada\n",
        "    random_state=42, # Semente para reprodutibilidade\n",
        "    verbose=2,       # Para exibir o progresso\n",
        "    n_jobs=-1        # Usar todos os núcleos disponíveis para acelerar a busca\n",
        ")\n",
        "\n",
        "random_search.fit(x_train, y_train)\n",
        "random_forest_model = random_search.best_estimator_\n",
        "\n",
        "y_random_forest_pred = random_forest_model.predict(x_test)"
      ],
      "metadata": {
        "id": "TrchWawPbt1p",
        "colab": {
          "base_uri": "https://localhost:8080/"
        },
        "outputId": "3f3c289e-7ae9-467c-8658-d314903a3631"
      },
      "execution_count": 158,
      "outputs": [
        {
          "output_type": "stream",
          "name": "stdout",
          "text": [
            "Fitting 5 folds for each of 50 candidates, totalling 250 fits\n"
          ]
        }
      ]
    },
    {
      "cell_type": "markdown",
      "source": [
        "### Teste do csv"
      ],
      "metadata": {
        "id": "wDlrX007Vts9"
      }
    },
    {
      "cell_type": "code",
      "source": [
        "test_prediction_random_forest = random_forest_model.predict(x_test_csv)"
      ],
      "metadata": {
        "id": "IRM9x02vVvvd"
      },
      "execution_count": 159,
      "outputs": []
    },
    {
      "cell_type": "markdown",
      "source": [
        "## Decision Tree"
      ],
      "metadata": {
        "id": "qcWBX34cOojS"
      }
    },
    {
      "cell_type": "code",
      "source": [
        "from sklearn.tree import DecisionTreeClassifier"
      ],
      "metadata": {
        "id": "BYwB_tc6OsMQ"
      },
      "execution_count": 130,
      "outputs": []
    },
    {
      "cell_type": "code",
      "source": [
        "param_dist = {\n",
        "    'criterion': ['gini', 'entropy'],  # Função de avaliação\n",
        "    'max_depth': [None] + list(np.arange(1, 21)),  # Profundidade máxima\n",
        "    'min_samples_split': np.arange(2, 11),  # Mínimo de amostras para dividir um nó\n",
        "    'min_samples_leaf': np.arange(1, 11),  # Mínimo de amostras em uma folha\n",
        "    'max_features': ['auto', 'sqrt', 'log2']  # Número de características\n",
        "}"
      ],
      "metadata": {
        "id": "R_hP1y_q2z4k"
      },
      "execution_count": 161,
      "outputs": []
    },
    {
      "cell_type": "code",
      "source": [
        "tree = DecisionTreeClassifier(random_state=42)\n",
        "\n",
        "random_search = RandomizedSearchCV(\n",
        "    tree,                               # O modelo\n",
        "    param_distributions=param_dist,     # O espaço de hiperparâmetros\n",
        "    n_iter=50,                          # Número de combinações aleatórias a serem testadas\n",
        "    scoring='accuracy',                 # Métrica de avaliação\n",
        "    cv=5,                               # Número de folds de validação cruzada\n",
        "    random_state=42,                    # Semente para reprodutibilidade\n",
        "    verbose=2,                          # Para exibir o progresso\n",
        "    n_jobs=-1                           # Usar todos os núcleos disponíveis\n",
        ")\n",
        "\n",
        "random_search.fit(x_train, y_train)\n",
        "\n",
        "tree_model = random_search.best_estimator_\n",
        "\n",
        "y_tree_pred = tree_model.predict(x_test)"
      ],
      "metadata": {
        "id": "IU4N-WVhPBD3",
        "colab": {
          "base_uri": "https://localhost:8080/"
        },
        "outputId": "35be45d1-7e16-4332-8d97-d6ab8ea9358b"
      },
      "execution_count": 162,
      "outputs": [
        {
          "output_type": "stream",
          "name": "stdout",
          "text": [
            "Fitting 5 folds for each of 50 candidates, totalling 250 fits\n"
          ]
        },
        {
          "output_type": "stream",
          "name": "stderr",
          "text": [
            "/usr/local/lib/python3.10/dist-packages/sklearn/model_selection/_validation.py:425: FitFailedWarning: \n",
            "100 fits failed out of a total of 250.\n",
            "The score on these train-test partitions for these parameters will be set to nan.\n",
            "If these failures are not expected, you can try to debug them by setting error_score='raise'.\n",
            "\n",
            "Below are more details about the failures:\n",
            "--------------------------------------------------------------------------------\n",
            "100 fits failed with the following error:\n",
            "Traceback (most recent call last):\n",
            "  File \"/usr/local/lib/python3.10/dist-packages/sklearn/model_selection/_validation.py\", line 729, in _fit_and_score\n",
            "    estimator.fit(X_train, y_train, **fit_params)\n",
            "  File \"/usr/local/lib/python3.10/dist-packages/sklearn/base.py\", line 1145, in wrapper\n",
            "    estimator._validate_params()\n",
            "  File \"/usr/local/lib/python3.10/dist-packages/sklearn/base.py\", line 638, in _validate_params\n",
            "    validate_parameter_constraints(\n",
            "  File \"/usr/local/lib/python3.10/dist-packages/sklearn/utils/_param_validation.py\", line 96, in validate_parameter_constraints\n",
            "    raise InvalidParameterError(\n",
            "sklearn.utils._param_validation.InvalidParameterError: The 'max_features' parameter of DecisionTreeClassifier must be an int in the range [1, inf), a float in the range (0.0, 1.0], a str among {'log2', 'sqrt'} or None. Got 'auto' instead.\n",
            "\n",
            "  warnings.warn(some_fits_failed_message, FitFailedWarning)\n",
            "/usr/local/lib/python3.10/dist-packages/sklearn/model_selection/_search.py:979: UserWarning: One or more of the test scores are non-finite: [0.77692903        nan 0.80258065        nan 0.76246452        nan\n",
            "        nan 0.64539355 0.76883871 0.7272            nan 0.77689032\n",
            "        nan 0.78015484        nan 0.78816774        nan 0.76250323\n",
            " 0.77370323 0.77854194 0.80576774 0.75442581 0.74157419 0.77854194\n",
            "        nan        nan 0.77531613 0.78172903        nan 0.77854194\n",
            "        nan 0.77043871        nan 0.77531613        nan        nan\n",
            "        nan        nan 0.74322581 0.81058065 0.78971613        nan\n",
            " 0.78818065 0.78169032        nan 0.7272     0.77527742 0.7624129\n",
            "        nan 0.7304129 ]\n",
            "  warnings.warn(\n"
          ]
        }
      ]
    },
    {
      "cell_type": "markdown",
      "source": [
        "### Teste do csv"
      ],
      "metadata": {
        "id": "-EnVe_brcusF"
      }
    },
    {
      "cell_type": "code",
      "source": [
        "test_prediction_tree = tree_model.predict(x_test_csv)"
      ],
      "metadata": {
        "id": "bzHwKBf7ZGz-"
      },
      "execution_count": 163,
      "outputs": []
    },
    {
      "cell_type": "markdown",
      "source": [
        "#  \n",
        "\n",
        "\n",
        "---\n",
        "\n"
      ],
      "metadata": {
        "id": "dSIeczBavRji"
      }
    },
    {
      "cell_type": "markdown",
      "source": [
        "# 2- Matriz de confusão e precisão e recall"
      ],
      "metadata": {
        "id": "zFVHN4e3Piwo"
      }
    },
    {
      "cell_type": "code",
      "source": [
        "from sklearn.metrics import confusion_matrix, classification_report\n",
        "import matplotlib.pyplot as plt"
      ],
      "metadata": {
        "id": "JD_dlisyPGoX"
      },
      "execution_count": 133,
      "outputs": []
    },
    {
      "cell_type": "markdown",
      "source": [
        "### Random Forest"
      ],
      "metadata": {
        "id": "rvM9ynA-P7OQ"
      }
    },
    {
      "cell_type": "code",
      "source": [
        "cmR = confusion_matrix(y_test, y_random_forest_pred)\n",
        "plt.figure(figsize=(8, 6))\n",
        "sns.heatmap(cmR, annot=True, fmt='d', cmap='Greens', cbar=False,\n",
        "            xticklabels=['Not Survived', 'Survived'],\n",
        "            yticklabels=['Not Survived', 'Survived'])\n",
        "\n",
        "plt.xlabel('Predito')\n",
        "plt.ylabel('Verdadeiro')\n",
        "plt.title('Random Forest')\n",
        "plt.show()"
      ],
      "metadata": {
        "colab": {
          "base_uri": "https://localhost:8080/",
          "height": 564
        },
        "id": "Kgtd54GtPh-w",
        "outputId": "e4b5e2c5-81e8-412a-c837-db0c87c6adcf"
      },
      "execution_count": 134,
      "outputs": [
        {
          "output_type": "display_data",
          "data": {
            "text/plain": [
              "<Figure size 800x600 with 1 Axes>"
            ],
            "image/png": "[encoded data removed]"
          },
          "metadata": {}
        }
      ]
    },
    {
      "cell_type": "code",
      "source": [
        "print(classification_report(y_test, y_random_forest_pred))"
      ],
      "metadata": {
        "colab": {
          "base_uri": "https://localhost:8080/"
        },
        "id": "-9V2K73yQyVJ",
        "outputId": "2b559c10-df38-48c9-e756-cf0479ceadc7"
      },
      "execution_count": 135,
      "outputs": [
        {
          "output_type": "stream",
          "name": "stdout",
          "text": [
            "              precision    recall  f1-score   support\n",
            "\n",
            "           0       0.81      0.83      0.82       157\n",
            "           1       0.76      0.73      0.74       111\n",
            "\n",
            "    accuracy                           0.79       268\n",
            "   macro avg       0.79      0.78      0.78       268\n",
            "weighted avg       0.79      0.79      0.79       268\n",
            "\n"
          ]
        }
      ]
    },
    {
      "cell_type": "markdown",
      "source": [
        "### Naive"
      ],
      "metadata": {
        "id": "YAF9-3FHQLtJ"
      }
    },
    {
      "cell_type": "code",
      "source": [
        "cmN = confusion_matrix(y_test, y_naive_pred)\n",
        "plt.figure(figsize=(8, 6))\n",
        "sns.heatmap(cmN, annot=True, fmt='d', cmap='Blues', cbar=False,\n",
        "            xticklabels=['Not Survived', 'Survived'],\n",
        "            yticklabels=['Not Survived', 'Survived'])\n",
        "\n",
        "plt.xlabel('Predito')\n",
        "plt.ylabel('Verdadeiro')\n",
        "plt.title('Naive')\n",
        "plt.show()"
      ],
      "metadata": {
        "colab": {
          "base_uri": "https://localhost:8080/",
          "height": 564
        },
        "id": "8vfi_ECpQL95",
        "outputId": "76ec28d3-14c0-4d51-e0b1-6a9544b76ed7"
      },
      "execution_count": 136,
      "outputs": [
        {
          "output_type": "display_data",
          "data": {
            "text/plain": [
              "<Figure size 800x600 with 1 Axes>"
            ],
            "image/png": "[encoded data removed]"
          },
          "metadata": {}
        }
      ]
    },
    {
      "cell_type": "code",
      "source": [
        "print(classification_report(y_test, y_naive_pred))"
      ],
      "metadata": {
        "colab": {
          "base_uri": "https://localhost:8080/"
        },
        "id": "8uOSpU0jQwIa",
        "outputId": "89289826-74ec-4e4f-df48-7c3323b0e381"
      },
      "execution_count": 137,
      "outputs": [
        {
          "output_type": "stream",
          "name": "stdout",
          "text": [
            "              precision    recall  f1-score   support\n",
            "\n",
            "           0       0.81      0.86      0.84       157\n",
            "           1       0.78      0.72      0.75       111\n",
            "\n",
            "    accuracy                           0.80       268\n",
            "   macro avg       0.80      0.79      0.79       268\n",
            "weighted avg       0.80      0.80      0.80       268\n",
            "\n"
          ]
        }
      ]
    },
    {
      "cell_type": "markdown",
      "source": [
        "### Tree"
      ],
      "metadata": {
        "id": "_kVjD2gxQMNS"
      }
    },
    {
      "cell_type": "code",
      "source": [
        "cmT = confusion_matrix(y_test, y_tree_pred)\n",
        "plt.figure(figsize=(8, 6))\n",
        "sns.heatmap(cmT, annot=True, fmt='d', cmap='Reds', cbar=False,\n",
        "            xticklabels=['Not Survived', 'Survived'],\n",
        "            yticklabels=['Not Survived', 'Survived'])\n",
        "\n",
        "plt.xlabel('Predito')\n",
        "plt.ylabel('Verdadeiro')\n",
        "plt.title('Decision Tree')\n",
        "plt.show()"
      ],
      "metadata": {
        "colab": {
          "base_uri": "https://localhost:8080/",
          "height": 564
        },
        "id": "tXO1AcCTQMcJ",
        "outputId": "79b7a808-b736-4a49-c67a-71526e693737"
      },
      "execution_count": 138,
      "outputs": [
        {
          "output_type": "display_data",
          "data": {
            "text/plain": [
              "<Figure size 800x600 with 1 Axes>"
            ],
            "image/png": "[encoded data removed]"
          },
          "metadata": {}
        }
      ]
    },
    {
      "cell_type": "code",
      "source": [
        "print(classification_report(y_test, y_tree_pred))"
      ],
      "metadata": {
        "colab": {
          "base_uri": "https://localhost:8080/"
        },
        "id": "VVXebVUGQwuJ",
        "outputId": "a943cdad-3d3e-4c09-920e-83718feece3f"
      },
      "execution_count": 139,
      "outputs": [
        {
          "output_type": "stream",
          "name": "stdout",
          "text": [
            "              precision    recall  f1-score   support\n",
            "\n",
            "           0       0.78      0.78      0.78       157\n",
            "           1       0.68      0.68      0.68       111\n",
            "\n",
            "    accuracy                           0.74       268\n",
            "   macro avg       0.73      0.73      0.73       268\n",
            "weighted avg       0.74      0.74      0.74       268\n",
            "\n"
          ]
        }
      ]
    },
    {
      "cell_type": "markdown",
      "source": [
        "---\n"
      ],
      "metadata": {
        "id": "qAK0L4wjnPMa"
      }
    },
    {
      "cell_type": "markdown",
      "source": [
        "#  \n",
        "\n",
        "\n",
        "---\n",
        "\n"
      ],
      "metadata": {
        "id": "4fDxaZZ9vcC0"
      }
    },
    {
      "cell_type": "markdown",
      "source": [
        "# 3- Comparação da acuracia de cada modelo pelo treino"
      ],
      "metadata": {
        "id": "Dp1UqcWteYqd"
      }
    },
    {
      "cell_type": "code",
      "source": [
        "from sklearn.metrics import accuracy_score"
      ],
      "metadata": {
        "id": "ZTHPlyZnfkAH"
      },
      "execution_count": 172,
      "outputs": []
    },
    {
      "cell_type": "markdown",
      "source": [
        "### Calculando a acurancia de cada modelo"
      ],
      "metadata": {
        "id": "7UPIE-tJf68I"
      }
    },
    {
      "cell_type": "code",
      "source": [
        "accuracy_rf = accuracy_score(y_test, y_random_forest_pred)\n",
        "accuracy_naive = accuracy_score(y_test, y_naive_pred)\n",
        "accuracy_tree = accuracy_score(y_test, y_tree_pred)"
      ],
      "metadata": {
        "id": "TtHDkjXJfUyg"
      },
      "execution_count": 173,
      "outputs": []
    },
    {
      "cell_type": "code",
      "source": [
        "accuracies = [accuracy_rf, accuracy_naive, accuracy_tree]\n",
        "model_names = ['Random Forest', 'Naive Bayes', 'Árvore de Decisão']"
      ],
      "metadata": {
        "id": "CBXEPjWffr9P"
      },
      "execution_count": 174,
      "outputs": []
    },
    {
      "cell_type": "markdown",
      "source": [
        "### Criando gráfico de baras"
      ],
      "metadata": {
        "id": "TNCaJRDGgEhQ"
      }
    },
    {
      "cell_type": "code",
      "source": [
        "plt.figure(figsize=(8, 6))\n",
        "plt.bar(model_names, accuracies, color=['green', 'blue', 'orange'])\n",
        "\n",
        "plt.xlabel('Modelos')\n",
        "plt.ylabel('Acurácia')\n",
        "plt.title('Comparação de Acurácia entre Modelos')\n",
        "\n",
        "for i, acc in enumerate(accuracies):\n",
        "    plt.text(i, acc + 0.01, f'{acc:.2f}', ha='center', va='bottom')\n",
        "\n",
        "plt.ylim([0, 1])  # Definir limites do eixo y para facilitar a leitura\n",
        "plt.show()"
      ],
      "metadata": {
        "colab": {
          "base_uri": "https://localhost:8080/",
          "height": 565
        },
        "id": "J3wSXO7vgA04",
        "outputId": "02c79c56-a758-4ca5-c1a6-0446ae607236"
      },
      "execution_count": 175,
      "outputs": [
        {
          "output_type": "display_data",
          "data": {
            "text/plain": [
              "<Figure size 800x600 with 1 Axes>"
            ],
            "image/png": "[encoded data removed]"
          },
          "metadata": {}
        }
      ]
    },
    {
      "cell_type": "markdown",
      "source": [],
      "metadata": {
        "id": "cJva-EnNvWMb"
      }
    },
    {
      "cell_type": "markdown",
      "source": [
        "#  \n",
        "\n",
        "\n",
        "---\n",
        "\n"
      ],
      "metadata": {
        "id": "m6NFlBNLvcOf"
      }
    },
    {
      "cell_type": "markdown",
      "source": [
        "# 4- Testando a acuracia de cada modelo para o csv de teste"
      ],
      "metadata": {
        "id": "FtvtNi3iii4h"
      }
    },
    {
      "cell_type": "code",
      "source": [
        "result = pd.read_csv('sample_data/gender_submission.csv')\n",
        "result = result['Survived']"
      ],
      "metadata": {
        "id": "k5fBb4ELisVx"
      },
      "execution_count": 176,
      "outputs": []
    },
    {
      "cell_type": "markdown",
      "source": [
        "## Confirindo tamanho do resultados dos modelos em relação aos modelos"
      ],
      "metadata": {
        "id": "fnfDqvSyi8WA"
      }
    },
    {
      "cell_type": "code",
      "source": [
        "result.shape"
      ],
      "metadata": {
        "colab": {
          "base_uri": "https://localhost:8080/"
        },
        "id": "D-yNqViOi3a6",
        "outputId": "63bc3031-94cf-4d9c-dd0b-f648a31f94c3"
      },
      "execution_count": 177,
      "outputs": [
        {
          "output_type": "execute_result",
          "data": {
            "text/plain": [
              "(418,)"
            ]
          },
          "metadata": {},
          "execution_count": 177
        }
      ]
    },
    {
      "cell_type": "code",
      "source": [
        "test_prediction_random_forest.shape"
      ],
      "metadata": {
        "colab": {
          "base_uri": "https://localhost:8080/"
        },
        "id": "XwMJ5ysvjCr6",
        "outputId": "49f2dcab-a8e3-4efe-df68-e0554dd11079"
      },
      "execution_count": 178,
      "outputs": [
        {
          "output_type": "execute_result",
          "data": {
            "text/plain": [
              "(418,)"
            ]
          },
          "metadata": {},
          "execution_count": 178
        }
      ]
    },
    {
      "cell_type": "code",
      "source": [
        "test_prediction_naive.shape"
      ],
      "metadata": {
        "colab": {
          "base_uri": "https://localhost:8080/"
        },
        "id": "T9qoUb2UjeJR",
        "outputId": "a23ab076-f8f1-4740-8a93-6f08e0562a3d"
      },
      "execution_count": 179,
      "outputs": [
        {
          "output_type": "execute_result",
          "data": {
            "text/plain": [
              "(418,)"
            ]
          },
          "metadata": {},
          "execution_count": 179
        }
      ]
    },
    {
      "cell_type": "code",
      "source": [
        "test_prediction_tree.shape"
      ],
      "metadata": {
        "colab": {
          "base_uri": "https://localhost:8080/"
        },
        "id": "ehJkQi3JjdpZ",
        "outputId": "d69c882f-18e6-477c-8063-94c174ffc382"
      },
      "execution_count": 180,
      "outputs": [
        {
          "output_type": "execute_result",
          "data": {
            "text/plain": [
              "(418,)"
            ]
          },
          "metadata": {},
          "execution_count": 180
        }
      ]
    },
    {
      "cell_type": "markdown",
      "source": [
        "## Acurancia dos testes do arquivo csv"
      ],
      "metadata": {
        "id": "0T0OwXeZjxL7"
      }
    },
    {
      "cell_type": "code",
      "source": [
        "accuracy_rf_csv = accuracy_score(result, test_prediction_random_forest)\n",
        "accuracy_naive_csv = accuracy_score(result, test_prediction_naive)\n",
        "accuracy_tree_csv = accuracy_score(result, test_prediction_tree)"
      ],
      "metadata": {
        "id": "l3_-epnljvRS"
      },
      "execution_count": 181,
      "outputs": []
    },
    {
      "cell_type": "code",
      "source": [
        "accuracies_csv = [accuracy_rf_csv, accuracy_naive_csv, accuracy_tree_csv]\n",
        "model_names = ['Random Forest', 'Naive Bayes', 'Árvore de Decisão']"
      ],
      "metadata": {
        "id": "1dZtbRYwkb7g"
      },
      "execution_count": 182,
      "outputs": []
    },
    {
      "cell_type": "markdown",
      "source": [
        "## Montando o grafico das acuracias"
      ],
      "metadata": {
        "id": "9Uq7PgsvkqFh"
      }
    },
    {
      "cell_type": "code",
      "source": [
        "plt.figure(figsize=(8, 6))\n",
        "plt.bar(model_names, accuracies, color=['green', 'blue', 'orange'])\n",
        "\n",
        "plt.xlabel('Modelos')\n",
        "plt.ylabel('Acurácia')\n",
        "plt.title('Comparação de Acurácia entre Modelos')\n",
        "\n",
        "for i, acc in enumerate(accuracies):\n",
        "    plt.text(i, acc + 0.01, f'{acc:.2f}', ha='center', va='bottom')\n",
        "\n",
        "plt.ylim([0, 1])  # Definir limites do eixo y para facilitar a leitura\n",
        "plt.show()"
      ],
      "metadata": {
        "colab": {
          "base_uri": "https://localhost:8080/",
          "height": 565
        },
        "id": "0hI9VdAHkpLZ",
        "outputId": "53647775-fd9d-4d5d-f7bb-18422a601f98"
      },
      "execution_count": 183,
      "outputs": [
        {
          "output_type": "display_data",
          "data": {
            "text/plain": [
              "<Figure size 800x600 with 1 Axes>"
            ],
            "image/png": "[encoded data removed]"
          },
          "metadata": {}
        }
      ]
    },
    {
      "cell_type": "markdown",
      "source": [
        "---\n"
      ],
      "metadata": {
        "id": "XBWYHx4enSFL"
      }
    },
    {
      "cell_type": "markdown",
      "source": [
        "#  \n",
        "\n",
        "\n",
        "---\n",
        "\n"
      ],
      "metadata": {
        "id": "bGIBiOuEvgcW"
      }
    }
  ]
}